{
 "cells": [
  {
   "cell_type": "code",
   "execution_count": null,
   "id": "719ffc2e",
   "metadata": {},
   "outputs": [
    {
     "data": {
      "application/javascript": [
       "\n",
       "try {\n",
       "require(['notebook/js/codecell'], function(codecell) {\n",
       "  codecell.CodeCell.options_default.highlight_modes[\n",
       "      'magic_text/x-csrc'] = {'reg':[/^%%microblaze/]};\n",
       "  Jupyter.notebook.events.one('kernel_ready.Kernel', function(){\n",
       "      Jupyter.notebook.get_cells().map(function(cell){\n",
       "          if (cell.cell_type == 'code'){ cell.auto_highlight(); } }) ;\n",
       "  });\n",
       "});\n",
       "} catch (e) {};\n"
      ]
     },
     "metadata": {},
     "output_type": "display_data"
    },
    {
     "data": {
      "application/javascript": [
       "\n",
       "try {\n",
       "require(['notebook/js/codecell'], function(codecell) {\n",
       "  codecell.CodeCell.options_default.highlight_modes[\n",
       "      'magic_text/x-csrc'] = {'reg':[/^%%pybind11/]};\n",
       "  Jupyter.notebook.events.one('kernel_ready.Kernel', function(){\n",
       "      Jupyter.notebook.get_cells().map(function(cell){\n",
       "          if (cell.cell_type == 'code'){ cell.auto_highlight(); } }) ;\n",
       "  });\n",
       "});\n",
       "} catch (e) {};\n"
      ]
     },
     "metadata": {},
     "output_type": "display_data"
    }
   ],
   "source": [
    "from pynq.overlays.base import BaseOverlay\n",
    "base_overlay = BaseOverlay(\"base.bit\")"
   ]
  },
  {
   "cell_type": "code",
   "execution_count": null,
   "id": "8118b133",
   "metadata": {},
   "outputs": [],
   "source": [
    "from pynq.lib import AxiGPIO  #Instantiate AxiGPIO class\n",
    "from time import sleep\n",
    "\n",
    "ledIP = base_overlay.ip_dict['leds_gpio']\n",
    "leds = AxiGPIO(ledIP).channel1\n",
    "\n",
    "# Access on-board buttons and assign to variables btN0 through btN1\n",
    "btN0 = base_overlay.buttons[0]  #Button BTN0\n",
    "btN1 = base_overlay.buttons[1]  #Button BTN1\n",
    "btN2 = base_overlay.buttons[2]  #Button BTN2\n",
    "btN3 = base_overlay.buttons[3]  #Button BTN2\n",
    "\n",
    "# Access on-board RGB LEDs and assign to variables rgbLed0 and rgbLed1\n",
    "rgbLed0 = base_overlay.rgbleds[4] #RGB LED4\n",
    "rgbLed1 = base_overlay.rgbleds[5] #RGB LED5\n",
    "\n",
    "# Access on-board Switches and assign to variables sW0 and sW1\n",
    "sW0 = base_overlay.switches[0]  #SW0\n",
    "sW1 = base_overlay.switches[1]  #SW1\n",
    "\n",
    "while (True):\n",
    "    btn0Value = btN0.read() # Read BTN0 value\n",
    "    btn1Value = btN1.read() # Read BTN1 value\n",
    "    btn2Value = btN2.read() # Read BTN1 value\n",
    "    btn3Value = btN3.read() # Read BTN1 value\n",
    "    \n",
    "  #BTN0: Blinks LEDs in BCD format\n",
    "  #BTN1: Blinks LEDs in Left Shift\n",
    "  #BTN2: Blinks LEDs in Right Shift\n",
    "  #BTN3: Blinks all LEDs \n",
    "    \n",
    "    if (btn0Value == True):\n",
    "        print('BTN0 is pressed. LEDs blink in BCD\\n')\n",
    "        for x in range(0, 16):\n",
    "            leds.write(x, 0xf)\n",
    "            sleep(1)\n",
    "    if (btn1Value == True):\n",
    "        print('BTN1 is pressed. LEDs blink in Left Shift\\n')\n",
    "        for x in [1,2,4,8]:\n",
    "            leds.write(x, 0xf)\n",
    "            sleep(1)\n",
    "    if (btn2Value == True):\n",
    "        print('BTN2 is pressed. LEDs blink in Right Shift\\n')\n",
    "        for x in [8,4,2,1]:\n",
    "            leds.write(x, 0xf)\n",
    "            sleep(1)\n",
    "    if (btn3Value == True):\n",
    "        print('BTN3 is pressed. All LEDs Toggle\\n')\n",
    "        leds.write(0xf, 0xf)\n",
    "        sleep(1)  \n",
    "        leds.write(0x0, 0xf)\n",
    "        sleep(1)\n",
    "    \n",
    "    # SW0: RGB LED0 toggle\n",
    "    # SW1: RGB LED1 toggle\n",
    "    \n",
    "    if (sW0.read() == True):  #Enable rgbLed0 Toggling\n",
    "        print('RGB LED0 is blinking...\\n')\n",
    "        rgbLed0.on(1)  # Turn ON Blue LED\n",
    "        sleep(0.5)\n",
    "        rgbLed0.on(2)  # Turn ON Green LED\n",
    "        sleep(0.5)\n",
    "        rgbLed0.on(4)  # Turn ON Red LED\n",
    "        sleep(1)\n",
    "        \n",
    "    if (sW1.read() == True):  #Enable rgbLed0 Toggling\n",
    "        print('RGB LED1 is blinking...\\n')\n",
    "        rgbLed1.on(1)  # Turn ON Blue LED\n",
    "        sleep(0.5)\n",
    "        rgbLed1.on(2)  # Turn ON Green LED\n",
    "        sleep(0.5)\n",
    "        rgbLed1.on(4)  # Turn ON Red LED\n",
    "        sleep(1)\n",
    "        \n",
    "    else:\n",
    "        leds.write(0x0, 0x0) # Turn OFF LEDs\n",
    "        rgbLed0.off()        # Turn OFF RGB LED0 \n",
    "        rgbLed1.off()        # Turn OFF RGB LED1"
   ]
  },
  {
   "cell_type": "code",
   "execution_count": null,
   "id": "eb0cc773",
   "metadata": {},
   "outputs": [],
   "source": []
  }
 ],
 "metadata": {
  "kernelspec": {
   "display_name": "Python 3 (ipykernel)",
   "language": "python",
   "name": "python3"
  },
  "language_info": {
   "codemirror_mode": {
    "name": "ipython",
    "version": 3
   },
   "file_extension": ".py",
   "mimetype": "text/x-python",
   "name": "python",
   "nbconvert_exporter": "python",
   "pygments_lexer": "ipython3",
   "version": "3.10.4"
  }
 },
 "nbformat": 4,
 "nbformat_minor": 5
}
