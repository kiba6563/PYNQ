{
 "cells": [
  {
   "cell_type": "markdown",
   "id": "3c8e336d-6944-4179-8a52-be3aacd7dec7",
   "metadata": {},
   "source": [
    "# Zynq Clocks\n",
    "\n",
    "There are four PL clocks enabled in the base overlay of the Pynq-Z2 FPGA development board. \n",
    "\n",
    "The clock frequencies can be collected from the <code>base</code> overlay using the <code>Clocks</code> class in Pynq."
   ]
  },
  {
   "cell_type": "code",
   "execution_count": 1,
   "id": "40ac94ba-56c4-46fa-a647-aecdf04b7143",
   "metadata": {},
   "outputs": [
    {
     "data": {
      "application/javascript": [
       "\n",
       "try {\n",
       "require(['notebook/js/codecell'], function(codecell) {\n",
       "  codecell.CodeCell.options_default.highlight_modes[\n",
       "      'magic_text/x-csrc'] = {'reg':[/^%%microblaze/]};\n",
       "  Jupyter.notebook.events.one('kernel_ready.Kernel', function(){\n",
       "      Jupyter.notebook.get_cells().map(function(cell){\n",
       "          if (cell.cell_type == 'code'){ cell.auto_highlight(); } }) ;\n",
       "  });\n",
       "});\n",
       "} catch (e) {};\n"
      ]
     },
     "metadata": {},
     "output_type": "display_data"
    },
    {
     "data": {
      "application/javascript": [
       "\n",
       "try {\n",
       "require(['notebook/js/codecell'], function(codecell) {\n",
       "  codecell.CodeCell.options_default.highlight_modes[\n",
       "      'magic_text/x-csrc'] = {'reg':[/^%%pybind11/]};\n",
       "  Jupyter.notebook.events.one('kernel_ready.Kernel', function(){\n",
       "      Jupyter.notebook.get_cells().map(function(cell){\n",
       "          if (cell.cell_type == 'code'){ cell.auto_highlight(); } }) ;\n",
       "  });\n",
       "});\n",
       "} catch (e) {};\n"
      ]
     },
     "metadata": {},
     "output_type": "display_data"
    }
   ],
   "source": [
    "from pynq.overlays.base import BaseOverlay\n",
    "ol = BaseOverlay(\"base.bit\")"
   ]
  },
  {
   "cell_type": "markdown",
   "id": "32f1b2a6-bdc9-4558-b969-419220eb1a35",
   "metadata": {},
   "source": [
    "The <code>Clocks</code> class in Pynq can be used for getting the clock frequencies of Programmable Logic (PL) clocks. "
   ]
  },
  {
   "cell_type": "code",
   "execution_count": 2,
   "id": "72bc8ccd-778c-4810-9513-83f2c758ec44",
   "metadata": {},
   "outputs": [
    {
     "name": "stdout",
     "output_type": "stream",
     "text": [
      "CPU Clock frequency : 650.0 MHz\n",
      "PL Clock0 frequency : 100.0 MHz\n",
      "PL Clock1 frequency : 142.857143 MHz\n",
      "PL Clock2 frequency : 200.0 MHz\n",
      "PL Clock3 frequency : 100.0 MHz\n"
     ]
    }
   ],
   "source": [
    "from pynq import Clocks\n",
    "\n",
    "# Create objects for Zynq clocks\n",
    "Fcpu = Clocks.cpu_mhz     # Getter method for CPU clock\n",
    "Fclk0 = Clocks.fclk0_mhz  # Getter method for PL clock0\n",
    "Fclk1 = Clocks.fclk1_mhz  # Getter method for PL clock1\n",
    "Fclk2 = Clocks.fclk2_mhz  # Getter method for PL clock2\n",
    "Fclk3 = Clocks.fclk3_mhz  # Getter method for PL clock3\n",
    "\n",
    "# Print clock frequencies\n",
    "print(\"CPU Clock frequency :\", Fcpu,\"MHz\")\n",
    "print(\"PL Clock0 frequency :\", Fclk0,\"MHz\")\n",
    "print(\"PL Clock1 frequency :\", Fclk1,\"MHz\")\n",
    "print(\"PL Clock2 frequency :\", Fclk2,\"MHz\")\n",
    "print(\"PL Clock3 frequency :\", Fclk3,\"MHz\")"
   ]
  },
  {
   "cell_type": "code",
   "execution_count": null,
   "id": "8221508b-7d84-4d60-b35b-3cdff8b0af5e",
   "metadata": {},
   "outputs": [],
   "source": []
  }
 ],
 "metadata": {
  "kernelspec": {
   "display_name": "Python 3 (ipykernel)",
   "language": "python",
   "name": "python3"
  },
  "language_info": {
   "codemirror_mode": {
    "name": "ipython",
    "version": 3
   },
   "file_extension": ".py",
   "mimetype": "text/x-python",
   "name": "python",
   "nbconvert_exporter": "python",
   "pygments_lexer": "ipython3",
   "version": "3.10.4"
  }
 },
 "nbformat": 4,
 "nbformat_minor": 5
}
